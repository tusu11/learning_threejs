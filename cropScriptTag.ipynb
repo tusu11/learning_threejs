{
 "nbformat": 4,
 "nbformat_minor": 2,
 "metadata": {
  "language_info": {
   "name": "python",
   "codemirror_mode": {
    "name": "ipython",
    "version": 3
   },
   "version": "3.7.5-final"
  },
  "orig_nbformat": 2,
  "file_extension": ".py",
  "mimetype": "text/x-python",
  "name": "python",
  "npconvert_exporter": "python",
  "pygments_lexer": "ipython3",
  "version": 3,
  "kernelspec": {
   "name": "python37564bitrlbookconda612c5b924e04465696b3d731ee76ca7c",
   "display_name": "Python 3.7.5 64-bit ('rl-book': conda)"
  }
 },
 "cells": [
  {
   "cell_type": "code",
   "execution_count": 76,
   "metadata": {
    "tags": [
     "outputPrepend"
    ]
   },
   "outputs": [],
   "source": [
    "import os\n",
    "import re\n",
    "os.chdir('/Users/kim_1/OneDrive/ドキュメント/dev/threejs/mythreejs/src/pages')\n",
    "\n",
    "content = []\n",
    "for name in os.listdir():\n",
    "    if os.path.isfile(name):\n",
    "        with open(name, \"r\", encoding=\"utf-8\") as f1:\n",
    "            with open(\"js/\" + name[:-4] + \"js\", \"w\", encoding=\"utf-8\") as f2:\n",
    "                f2.write(re.sub(r'[\\s \\S]*<script type=\"text/javascript\">([\\s \\S]*?)</script>[\\s \\S]*', r'\\1', f1.read()))\n",
    ""
   ]
  }
 ]
}