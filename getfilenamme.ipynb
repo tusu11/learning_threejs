{
 "nbformat": 4,
 "nbformat_minor": 2,
 "metadata": {
  "language_info": {
   "name": "python",
   "codemirror_mode": {
    "name": "ipython",
    "version": 3
   },
   "version": "3.7.5-final"
  },
  "orig_nbformat": 2,
  "file_extension": ".py",
  "mimetype": "text/x-python",
  "name": "python",
  "npconvert_exporter": "python",
  "pygments_lexer": "ipython3",
  "version": 3,
  "kernelspec": {
   "name": "python37564bitrlbookconda612c5b924e04465696b3d731ee76ca7c",
   "display_name": "Python 3.7.5 64-bit ('rl-book': conda)"
  }
 },
 "cells": [
  {
   "cell_type": "code",
   "execution_count": 7,
   "metadata": {},
   "outputs": [],
   "source": [
    "#os.chdir('mythreejs/src/pages')\n",
    "import json\n",
    "\n",
    "content = []\n",
    "for name in os.listdir():\n",
    "    if os.path.isfile(name):\n",
    "        content.append(name)\n",
    ""
   ]
  },
  {
   "cell_type": "code",
   "execution_count": 8,
   "metadata": {},
   "outputs": [],
   "source": [
    "ix = []\n",
    "title = []\n",
    "src = []\n",
    "for i, item in enumerate(content):\n",
    "        ix.append(i+1)\n",
    "        title.append(item[:-5])\n",
    "        src.append(\"\\pages\\\\\"+item)"
   ]
  },
  {
   "cell_type": "code",
   "execution_count": 32,
   "metadata": {},
   "outputs": [],
   "source": [
    "d = []\n",
    "for i in range(len(ix)):\n",
    "    d.append({'id': ix[i], 'title': title[i],'content': content[i]})"
   ]
  },
  {
   "cell_type": "code",
   "execution_count": 34,
   "metadata": {},
   "outputs": [],
   "source": [
    "with open('..\\content.json', 'w') as f:\n",
    "    json.dump(d, f, indent=2)"
   ]
  },
  {
   "cell_type": "code",
   "execution_count": 111,
   "metadata": {},
   "outputs": [
    {
     "output_type": "stream",
     "name": "stdout",
     "text": "c:\\Users\\kim_1\\OneDrive\\�h�L�������g\\dev\\threejs\\mythreejs\\src\\pages\n"
    }
   ],
   "source": [
    "!cd"
   ]
  },
  {
   "cell_type": "code",
   "execution_count": null,
   "metadata": {},
   "outputs": [],
   "source": []
  }
 ]
}